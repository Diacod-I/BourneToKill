{
  "nbformat": 4,
  "nbformat_minor": 0,
  "metadata": {
    "colab": {
      "provenance": [],
      "authorship_tag": "ABX9TyOsIdGvFSwvqnXyyWWhgaAp",
      "include_colab_link": true
    },
    "kernelspec": {
      "name": "python3",
      "display_name": "Python 3"
    },
    "language_info": {
      "name": "python"
    }
  },
  "cells": [
    {
      "cell_type": "markdown",
      "metadata": {
        "id": "view-in-github",
        "colab_type": "text"
      },
      "source": [
        "<a href=\"https://colab.research.google.com/github/Diacod-I/BourneToKill/blob/main/BioInfo.ipynb\" target=\"_parent\"><img src=\"https://colab.research.google.com/assets/colab-badge.svg\" alt=\"Open In Colab\"/></a>"
      ]
    },
    {
      "cell_type": "code",
      "execution_count": 2,
      "metadata": {
        "colab": {
          "base_uri": "https://localhost:8080/"
        },
        "id": "JFqchbD_G_sP",
        "outputId": "ae718316-d4e5-4d8a-d26a-43139c0d7f73"
      },
      "outputs": [
        {
          "output_type": "stream",
          "name": "stdout",
          "text": [
            "Looking in indexes: https://pypi.org/simple, https://us-python.pkg.dev/colab-wheels/public/simple/\n",
            "Collecting chembl_webresource_client\n",
            "  Downloading chembl_webresource_client-0.10.8-py3-none-any.whl (55 kB)\n",
            "\u001b[2K     \u001b[90m━━━━━━━━━━━━━━━━━━━━━━━━━━━━━━━━━━━━━━━━\u001b[0m \u001b[32m55.2/55.2 KB\u001b[0m \u001b[31m2.8 MB/s\u001b[0m eta \u001b[36m0:00:00\u001b[0m\n",
            "\u001b[?25hRequirement already satisfied: requests>=2.18.4 in /usr/local/lib/python3.9/dist-packages (from chembl_webresource_client) (2.27.1)\n",
            "Collecting requests-cache~=0.7.0\n",
            "  Downloading requests_cache-0.7.5-py3-none-any.whl (39 kB)\n",
            "Requirement already satisfied: easydict in /usr/local/lib/python3.9/dist-packages (from chembl_webresource_client) (1.10)\n",
            "Requirement already satisfied: urllib3 in /usr/local/lib/python3.9/dist-packages (from chembl_webresource_client) (1.26.15)\n",
            "Requirement already satisfied: idna<4,>=2.5 in /usr/local/lib/python3.9/dist-packages (from requests>=2.18.4->chembl_webresource_client) (3.4)\n",
            "Requirement already satisfied: charset-normalizer~=2.0.0 in /usr/local/lib/python3.9/dist-packages (from requests>=2.18.4->chembl_webresource_client) (2.0.12)\n",
            "Requirement already satisfied: certifi>=2017.4.17 in /usr/local/lib/python3.9/dist-packages (from requests>=2.18.4->chembl_webresource_client) (2022.12.7)\n",
            "Collecting attrs<22.0,>=21.2\n",
            "  Downloading attrs-21.4.0-py2.py3-none-any.whl (60 kB)\n",
            "\u001b[2K     \u001b[90m━━━━━━━━━━━━━━━━━━━━━━━━━━━━━━━━━━━━━━━━\u001b[0m \u001b[32m60.6/60.6 KB\u001b[0m \u001b[31m6.3 MB/s\u001b[0m eta \u001b[36m0:00:00\u001b[0m\n",
            "\u001b[?25hRequirement already satisfied: itsdangerous>=2.0.1 in /usr/local/lib/python3.9/dist-packages (from requests-cache~=0.7.0->chembl_webresource_client) (2.1.2)\n",
            "Collecting url-normalize<2.0,>=1.4\n",
            "  Downloading url_normalize-1.4.3-py2.py3-none-any.whl (6.8 kB)\n",
            "Requirement already satisfied: pyyaml>=5.4 in /usr/local/lib/python3.9/dist-packages (from requests-cache~=0.7.0->chembl_webresource_client) (6.0)\n",
            "Requirement already satisfied: six in /usr/local/lib/python3.9/dist-packages (from url-normalize<2.0,>=1.4->requests-cache~=0.7.0->chembl_webresource_client) (1.15.0)\n",
            "Installing collected packages: url-normalize, attrs, requests-cache, chembl_webresource_client\n",
            "  Attempting uninstall: attrs\n",
            "    Found existing installation: attrs 22.2.0\n",
            "    Uninstalling attrs-22.2.0:\n",
            "      Successfully uninstalled attrs-22.2.0\n",
            "Successfully installed attrs-21.4.0 chembl_webresource_client-0.10.8 requests-cache-0.7.5 url-normalize-1.4.3\n"
          ]
        }
      ],
      "source": [
        "!pip install chembl_webresource_client"
      ]
    },
    {
      "cell_type": "markdown",
      "source": [
        "## Importing Libraries"
      ],
      "metadata": {
        "id": "4LsoVNuppfrl"
      }
    },
    {
      "cell_type": "code",
      "source": [
        "import pandas as pd\n",
        "from chembl_webresource_client.new_client import new_client"
      ],
      "metadata": {
        "id": "dIGuk7ywnhv1"
      },
      "execution_count": 3,
      "outputs": []
    },
    {
      "cell_type": "markdown",
      "source": [
        "## Searching for Target Protein MAOA"
      ],
      "metadata": {
        "id": "fxHfDsxip5zQ"
      }
    },
    {
      "cell_type": "code",
      "source": [
        "target = new_client.target\n",
        "target_query = target.search('MAOA')\n",
        "queries = pd.DataFrame.from_dict(target_query)\n",
        "queries"
      ],
      "metadata": {
        "colab": {
          "base_uri": "https://localhost:8080/",
          "height": 483
        },
        "id": "TEL6c6VxqB1z",
        "outputId": "0574dec6-4c8f-4c51-f6b1-6b8f121e7b0a"
      },
      "execution_count": 4,
      "outputs": [
        {
          "output_type": "execute_result",
          "data": {
            "text/plain": [
              "                                    cross_references           organism  \\\n",
              "0  [{'xref_id': 'P21397', 'xref_name': None, 'xre...       Homo sapiens   \n",
              "1  [{'xref_id': 'P21398', 'xref_name': None, 'xre...         Bos taurus   \n",
              "2  [{'xref_id': 'P21396', 'xref_name': None, 'xre...  Rattus norvegicus   \n",
              "3  [{'xref_id': 'NBK23217', 'xref_name': 'Monoami...       Mus musculus   \n",
              "4                                                 []  Rattus norvegicus   \n",
              "5                                                 []       Homo sapiens   \n",
              "6                                                 []       Mus musculus   \n",
              "7                                                 []         Bos taurus   \n",
              "\n",
              "             pref_name  score  species_group_flag target_chembl_id  \\\n",
              "0  Monoamine oxidase A   15.0               False       CHEMBL1951   \n",
              "1  Monoamine oxidase A   15.0               False       CHEMBL3254   \n",
              "2  Monoamine oxidase A   15.0               False       CHEMBL3358   \n",
              "3  Monoamine oxidase A   15.0               False       CHEMBL3681   \n",
              "4    Monoamine oxidase   13.0               False    CHEMBL2095196   \n",
              "5    Monoamine oxidase   13.0               False    CHEMBL2095205   \n",
              "6    Monoamine oxidase   13.0               False    CHEMBL2111442   \n",
              "7    Monoamine oxidase   13.0               False    CHEMBL2111399   \n",
              "\n",
              "                                   target_components     target_type  tax_id  \n",
              "0  [{'accession': 'P21397', 'component_descriptio...  SINGLE PROTEIN    9606  \n",
              "1  [{'accession': 'P21398', 'component_descriptio...  SINGLE PROTEIN    9913  \n",
              "2  [{'accession': 'P21396', 'component_descriptio...  SINGLE PROTEIN   10116  \n",
              "3  [{'accession': 'Q64133', 'component_descriptio...  SINGLE PROTEIN   10090  \n",
              "4  [{'accession': 'P19643', 'component_descriptio...  PROTEIN FAMILY   10116  \n",
              "5  [{'accession': 'P21397', 'component_descriptio...  PROTEIN FAMILY    9606  \n",
              "6  [{'accession': 'Q8BW75', 'component_descriptio...  PROTEIN FAMILY   10090  \n",
              "7  [{'accession': 'P56560', 'component_descriptio...  PROTEIN FAMILY    9913  "
            ],
            "text/html": [
              "\n",
              "  <div id=\"df-6fe55251-c9c4-44da-94fe-b3f78ca72c5d\">\n",
              "    <div class=\"colab-df-container\">\n",
              "      <div>\n",
              "<style scoped>\n",
              "    .dataframe tbody tr th:only-of-type {\n",
              "        vertical-align: middle;\n",
              "    }\n",
              "\n",
              "    .dataframe tbody tr th {\n",
              "        vertical-align: top;\n",
              "    }\n",
              "\n",
              "    .dataframe thead th {\n",
              "        text-align: right;\n",
              "    }\n",
              "</style>\n",
              "<table border=\"1\" class=\"dataframe\">\n",
              "  <thead>\n",
              "    <tr style=\"text-align: right;\">\n",
              "      <th></th>\n",
              "      <th>cross_references</th>\n",
              "      <th>organism</th>\n",
              "      <th>pref_name</th>\n",
              "      <th>score</th>\n",
              "      <th>species_group_flag</th>\n",
              "      <th>target_chembl_id</th>\n",
              "      <th>target_components</th>\n",
              "      <th>target_type</th>\n",
              "      <th>tax_id</th>\n",
              "    </tr>\n",
              "  </thead>\n",
              "  <tbody>\n",
              "    <tr>\n",
              "      <th>0</th>\n",
              "      <td>[{'xref_id': 'P21397', 'xref_name': None, 'xre...</td>\n",
              "      <td>Homo sapiens</td>\n",
              "      <td>Monoamine oxidase A</td>\n",
              "      <td>15.0</td>\n",
              "      <td>False</td>\n",
              "      <td>CHEMBL1951</td>\n",
              "      <td>[{'accession': 'P21397', 'component_descriptio...</td>\n",
              "      <td>SINGLE PROTEIN</td>\n",
              "      <td>9606</td>\n",
              "    </tr>\n",
              "    <tr>\n",
              "      <th>1</th>\n",
              "      <td>[{'xref_id': 'P21398', 'xref_name': None, 'xre...</td>\n",
              "      <td>Bos taurus</td>\n",
              "      <td>Monoamine oxidase A</td>\n",
              "      <td>15.0</td>\n",
              "      <td>False</td>\n",
              "      <td>CHEMBL3254</td>\n",
              "      <td>[{'accession': 'P21398', 'component_descriptio...</td>\n",
              "      <td>SINGLE PROTEIN</td>\n",
              "      <td>9913</td>\n",
              "    </tr>\n",
              "    <tr>\n",
              "      <th>2</th>\n",
              "      <td>[{'xref_id': 'P21396', 'xref_name': None, 'xre...</td>\n",
              "      <td>Rattus norvegicus</td>\n",
              "      <td>Monoamine oxidase A</td>\n",
              "      <td>15.0</td>\n",
              "      <td>False</td>\n",
              "      <td>CHEMBL3358</td>\n",
              "      <td>[{'accession': 'P21396', 'component_descriptio...</td>\n",
              "      <td>SINGLE PROTEIN</td>\n",
              "      <td>10116</td>\n",
              "    </tr>\n",
              "    <tr>\n",
              "      <th>3</th>\n",
              "      <td>[{'xref_id': 'NBK23217', 'xref_name': 'Monoami...</td>\n",
              "      <td>Mus musculus</td>\n",
              "      <td>Monoamine oxidase A</td>\n",
              "      <td>15.0</td>\n",
              "      <td>False</td>\n",
              "      <td>CHEMBL3681</td>\n",
              "      <td>[{'accession': 'Q64133', 'component_descriptio...</td>\n",
              "      <td>SINGLE PROTEIN</td>\n",
              "      <td>10090</td>\n",
              "    </tr>\n",
              "    <tr>\n",
              "      <th>4</th>\n",
              "      <td>[]</td>\n",
              "      <td>Rattus norvegicus</td>\n",
              "      <td>Monoamine oxidase</td>\n",
              "      <td>13.0</td>\n",
              "      <td>False</td>\n",
              "      <td>CHEMBL2095196</td>\n",
              "      <td>[{'accession': 'P19643', 'component_descriptio...</td>\n",
              "      <td>PROTEIN FAMILY</td>\n",
              "      <td>10116</td>\n",
              "    </tr>\n",
              "    <tr>\n",
              "      <th>5</th>\n",
              "      <td>[]</td>\n",
              "      <td>Homo sapiens</td>\n",
              "      <td>Monoamine oxidase</td>\n",
              "      <td>13.0</td>\n",
              "      <td>False</td>\n",
              "      <td>CHEMBL2095205</td>\n",
              "      <td>[{'accession': 'P21397', 'component_descriptio...</td>\n",
              "      <td>PROTEIN FAMILY</td>\n",
              "      <td>9606</td>\n",
              "    </tr>\n",
              "    <tr>\n",
              "      <th>6</th>\n",
              "      <td>[]</td>\n",
              "      <td>Mus musculus</td>\n",
              "      <td>Monoamine oxidase</td>\n",
              "      <td>13.0</td>\n",
              "      <td>False</td>\n",
              "      <td>CHEMBL2111442</td>\n",
              "      <td>[{'accession': 'Q8BW75', 'component_descriptio...</td>\n",
              "      <td>PROTEIN FAMILY</td>\n",
              "      <td>10090</td>\n",
              "    </tr>\n",
              "    <tr>\n",
              "      <th>7</th>\n",
              "      <td>[]</td>\n",
              "      <td>Bos taurus</td>\n",
              "      <td>Monoamine oxidase</td>\n",
              "      <td>13.0</td>\n",
              "      <td>False</td>\n",
              "      <td>CHEMBL2111399</td>\n",
              "      <td>[{'accession': 'P56560', 'component_descriptio...</td>\n",
              "      <td>PROTEIN FAMILY</td>\n",
              "      <td>9913</td>\n",
              "    </tr>\n",
              "  </tbody>\n",
              "</table>\n",
              "</div>\n",
              "      <button class=\"colab-df-convert\" onclick=\"convertToInteractive('df-6fe55251-c9c4-44da-94fe-b3f78ca72c5d')\"\n",
              "              title=\"Convert this dataframe to an interactive table.\"\n",
              "              style=\"display:none;\">\n",
              "        \n",
              "  <svg xmlns=\"http://www.w3.org/2000/svg\" height=\"24px\"viewBox=\"0 0 24 24\"\n",
              "       width=\"24px\">\n",
              "    <path d=\"M0 0h24v24H0V0z\" fill=\"none\"/>\n",
              "    <path d=\"M18.56 5.44l.94 2.06.94-2.06 2.06-.94-2.06-.94-.94-2.06-.94 2.06-2.06.94zm-11 1L8.5 8.5l.94-2.06 2.06-.94-2.06-.94L8.5 2.5l-.94 2.06-2.06.94zm10 10l.94 2.06.94-2.06 2.06-.94-2.06-.94-.94-2.06-.94 2.06-2.06.94z\"/><path d=\"M17.41 7.96l-1.37-1.37c-.4-.4-.92-.59-1.43-.59-.52 0-1.04.2-1.43.59L10.3 9.45l-7.72 7.72c-.78.78-.78 2.05 0 2.83L4 21.41c.39.39.9.59 1.41.59.51 0 1.02-.2 1.41-.59l7.78-7.78 2.81-2.81c.8-.78.8-2.07 0-2.86zM5.41 20L4 18.59l7.72-7.72 1.47 1.35L5.41 20z\"/>\n",
              "  </svg>\n",
              "      </button>\n",
              "      \n",
              "  <style>\n",
              "    .colab-df-container {\n",
              "      display:flex;\n",
              "      flex-wrap:wrap;\n",
              "      gap: 12px;\n",
              "    }\n",
              "\n",
              "    .colab-df-convert {\n",
              "      background-color: #E8F0FE;\n",
              "      border: none;\n",
              "      border-radius: 50%;\n",
              "      cursor: pointer;\n",
              "      display: none;\n",
              "      fill: #1967D2;\n",
              "      height: 32px;\n",
              "      padding: 0 0 0 0;\n",
              "      width: 32px;\n",
              "    }\n",
              "\n",
              "    .colab-df-convert:hover {\n",
              "      background-color: #E2EBFA;\n",
              "      box-shadow: 0px 1px 2px rgba(60, 64, 67, 0.3), 0px 1px 3px 1px rgba(60, 64, 67, 0.15);\n",
              "      fill: #174EA6;\n",
              "    }\n",
              "\n",
              "    [theme=dark] .colab-df-convert {\n",
              "      background-color: #3B4455;\n",
              "      fill: #D2E3FC;\n",
              "    }\n",
              "\n",
              "    [theme=dark] .colab-df-convert:hover {\n",
              "      background-color: #434B5C;\n",
              "      box-shadow: 0px 1px 3px 1px rgba(0, 0, 0, 0.15);\n",
              "      filter: drop-shadow(0px 1px 2px rgba(0, 0, 0, 0.3));\n",
              "      fill: #FFFFFF;\n",
              "    }\n",
              "  </style>\n",
              "\n",
              "      <script>\n",
              "        const buttonEl =\n",
              "          document.querySelector('#df-6fe55251-c9c4-44da-94fe-b3f78ca72c5d button.colab-df-convert');\n",
              "        buttonEl.style.display =\n",
              "          google.colab.kernel.accessAllowed ? 'block' : 'none';\n",
              "\n",
              "        async function convertToInteractive(key) {\n",
              "          const element = document.querySelector('#df-6fe55251-c9c4-44da-94fe-b3f78ca72c5d');\n",
              "          const dataTable =\n",
              "            await google.colab.kernel.invokeFunction('convertToInteractive',\n",
              "                                                     [key], {});\n",
              "          if (!dataTable) return;\n",
              "\n",
              "          const docLinkHtml = 'Like what you see? Visit the ' +\n",
              "            '<a target=\"_blank\" href=https://colab.research.google.com/notebooks/data_table.ipynb>data table notebook</a>'\n",
              "            + ' to learn more about interactive tables.';\n",
              "          element.innerHTML = '';\n",
              "          dataTable['output_type'] = 'display_data';\n",
              "          await google.colab.output.renderOutput(dataTable, element);\n",
              "          const docLink = document.createElement('div');\n",
              "          docLink.innerHTML = docLinkHtml;\n",
              "          element.appendChild(docLink);\n",
              "        }\n",
              "      </script>\n",
              "    </div>\n",
              "  </div>\n",
              "  "
            ]
          },
          "metadata": {},
          "execution_count": 4
        }
      ]
    },
    {
      "cell_type": "code",
      "source": [
        "MaOA = queries.iloc[0,:]\n",
        "MaOA"
      ],
      "metadata": {
        "colab": {
          "base_uri": "https://localhost:8080/"
        },
        "id": "Bm_-2L6FsM4e",
        "outputId": "9023a982-9865-49f1-81cd-233a7ee7a050"
      },
      "execution_count": 5,
      "outputs": [
        {
          "output_type": "execute_result",
          "data": {
            "text/plain": [
              "cross_references      [{'xref_id': 'P21397', 'xref_name': None, 'xre...\n",
              "organism                                                   Homo sapiens\n",
              "pref_name                                           Monoamine oxidase A\n",
              "score                                                              15.0\n",
              "species_group_flag                                                False\n",
              "target_chembl_id                                             CHEMBL1951\n",
              "target_components     [{'accession': 'P21397', 'component_descriptio...\n",
              "target_type                                              SINGLE PROTEIN\n",
              "tax_id                                                             9606\n",
              "Name: 0, dtype: object"
            ]
          },
          "metadata": {},
          "execution_count": 5
        }
      ]
    },
    {
      "cell_type": "markdown",
      "source": [
        "Now the follwing shows the retrieval of bioactivity data for Monoamine oxidase A from ChemBL"
      ],
      "metadata": {
        "id": "1ZTU1dMIsWM0"
      }
    },
    {
      "cell_type": "code",
      "source": [
        "activity = new_client.activity\n",
        "bio = activity.filter(target_chembl_id=MaOA).filter(target_components='accession')\n",
        "type(bio)"
      ],
      "metadata": {
        "colab": {
          "base_uri": "https://localhost:8080/"
        },
        "id": "FfJoTv31sTFq",
        "outputId": "8a3e9da3-fe31-4bba-fa7a-79479ae81319"
      },
      "execution_count": 9,
      "outputs": [
        {
          "output_type": "execute_result",
          "data": {
            "text/plain": [
              "chembl_webresource_client.query_set.QuerySet"
            ]
          },
          "metadata": {},
          "execution_count": 9
        }
      ]
    },
    {
      "cell_type": "code",
      "source": [
        "biodf = pd.DataFrame.to_dict(bio)"
      ],
      "metadata": {
        "colab": {
          "base_uri": "https://localhost:8080/",
          "height": 287
        },
        "id": "p4wNttlZwEXJ",
        "outputId": "03daacfc-2f2f-4cc4-bcc6-7d518dbd2d32"
      },
      "execution_count": 10,
      "outputs": [
        {
          "output_type": "error",
          "ename": "AttributeError",
          "evalue": "ignored",
          "traceback": [
            "\u001b[0;31m---------------------------------------------------------------------------\u001b[0m",
            "\u001b[0;31mAttributeError\u001b[0m                            Traceback (most recent call last)",
            "\u001b[0;32m<ipython-input-10-63ab088ca6c9>\u001b[0m in \u001b[0;36m<module>\u001b[0;34m\u001b[0m\n\u001b[0;32m----> 1\u001b[0;31m \u001b[0mbiodf\u001b[0m \u001b[0;34m=\u001b[0m \u001b[0mpd\u001b[0m\u001b[0;34m.\u001b[0m\u001b[0mDataFrame\u001b[0m\u001b[0;34m.\u001b[0m\u001b[0mto_dict\u001b[0m\u001b[0;34m(\u001b[0m\u001b[0mbio\u001b[0m\u001b[0;34m)\u001b[0m\u001b[0;34m\u001b[0m\u001b[0;34m\u001b[0m\u001b[0m\n\u001b[0m",
            "\u001b[0;32m/usr/local/lib/python3.9/dist-packages/pandas/core/frame.py\u001b[0m in \u001b[0;36mto_dict\u001b[0;34m(self, orient, into)\u001b[0m\n\u001b[1;32m   1857\u001b[0m          defaultdict(<class 'list'>, {'col1': 2, 'col2': 0.75})]\n\u001b[1;32m   1858\u001b[0m         \"\"\"\n\u001b[0;32m-> 1859\u001b[0;31m         \u001b[0;32mif\u001b[0m \u001b[0;32mnot\u001b[0m \u001b[0mself\u001b[0m\u001b[0;34m.\u001b[0m\u001b[0mcolumns\u001b[0m\u001b[0;34m.\u001b[0m\u001b[0mis_unique\u001b[0m\u001b[0;34m:\u001b[0m\u001b[0;34m\u001b[0m\u001b[0;34m\u001b[0m\u001b[0m\n\u001b[0m\u001b[1;32m   1860\u001b[0m             warnings.warn(\n\u001b[1;32m   1861\u001b[0m                 \u001b[0;34m\"DataFrame columns are not unique, some columns will be omitted.\"\u001b[0m\u001b[0;34m,\u001b[0m\u001b[0;34m\u001b[0m\u001b[0;34m\u001b[0m\u001b[0m\n",
            "\u001b[0;31mAttributeError\u001b[0m: 'QuerySet' object has no attribute 'columns'"
          ]
        }
      ]
    }
  ]
}